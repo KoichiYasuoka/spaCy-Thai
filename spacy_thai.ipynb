{
  "nbformat":4,
  "nbformat_minor":0,
  "metadata":{
    "colab":{ "name":"spaCy-Thai on Google Colaboratory" },
    "kernelspec":{ "name":"python3" }
  },
  "cells":[
    {
      "cell_type":"markdown",
      "metadata":{ "colab_type":"text" },
      "source":[
        "# [spaCy-Thai](https://github.com/KoichiYasuoka/spaCy-Thai) on Google Colaboratory"
      ]
    },
    {
      "cell_type":"code",
      "metadata":{ "colab_type":"code" },
      "source":[
        "!pip install spacy_thai\n",
        "import spacy_thai\n",
        "nlp=spacy_thai.load()\n",
        "doc=nlp(\"แผนกนี้กำลังเผชิญกับความท้าทายใหม่\")\n",
        "import deplacy\n",
        "deplacy.render(doc,WordRight=True)\n",
        "deplacy.serve(doc,port=None)\n",
        "# import graphviz\n",
        "# graphviz.Source(deplacy.dot(doc))"
      ],
      "outputs":[
        {
          "output_type":"stream",
          "text":[
            " nsubj ╔════════>╔═ NOUN แผนก\n",
            "   det ║         ╚> DET  นี้\n",
            "   aux ║ ╔════════> AUX  กำลัง\n",
            "  ROOT ╚═╚═╔═══════ VERB เผชิญ\n",
            "  case     ║ ╔════> ADP  กับ\n",
            "   obl     ╚>╚═╔═══ PART ความ\n",
            "   acl         ╚>╔═ VERB ท้าทาย\n",
            "advmod           ╚> ADV  ใหม่\n",
            "\n"
          ]
        },
        {
          "output_type":"display_data",
          "data":{
            "text/html":[
              "<iframe width=\"100%\" height=\"400\" src=\"https://koichiyasuoka.github.io/deplacy/deplacy/editor.html#1%09%E0%B9%81%E0%B8%9C%E0%B8%99%E0%B8%81%09%E0%B9%81%E0%B8%9C%E0%B8%99%E0%B8%81%09NOUN%09NCMN%09_%094%09nsubj%09_%09SpaceAfter%3DNo%0A2%09%E0%B8%99%E0%B8%B5%E0%B9%89%09%E0%B8%99%E0%B8%B5%E0%B9%89%09DET%09DDAC%09_%091%09det%09_%09SpaceAfter%3DNo%0A3%09%E0%B8%81%E0%B8%B3%E0%B8%A5%E0%B8%B1%E0%B8%87%09%E0%B8%81%E0%B8%B3%E0%B8%A5%E0%B8%B1%E0%B8%87%09AUX%09XVBM%09_%094%09aux%09_%09SpaceAfter%3DNo%0A4%09%E0%B9%80%E0%B8%9C%E0%B8%8A%E0%B8%B4%E0%B8%8D%09%E0%B9%80%E0%B8%9C%E0%B8%8A%E0%B8%B4%E0%B8%8D%09VERB%09VSTA%09_%090%09ROOT%09_%09SpaceAfter%3DNo%0A5%09%E0%B8%81%E0%B8%B1%E0%B8%9A%09%E0%B8%81%E0%B8%B1%E0%B8%9A%09ADP%09RPRE%09_%096%09case%09_%09SpaceAfter%3DNo%0A6%09%E0%B8%84%E0%B8%A7%E0%B8%B2%E0%B8%A1%09%E0%B8%84%E0%B8%A7%E0%B8%B2%E0%B8%A1%09PART%09FIXN%09_%094%09obl%09_%09SpaceAfter%3DNo%0A7%09%E0%B8%97%E0%B9%89%E0%B8%B2%E0%B8%97%E0%B8%B2%E0%B8%A2%09%E0%B8%97%E0%B9%89%E0%B8%B2%E0%B8%97%E0%B8%B2%E0%B8%A2%09VERB%09VACT%09_%096%09acl%09_%09SpaceAfter%3DNo%0A8%09%E0%B9%83%E0%B8%AB%E0%B8%A1%E0%B9%88%09%E0%B9%83%E0%B8%AB%E0%B8%A1%E0%B9%88%09ADV%09ADVN%09_%097%09advmod%09_%09SpaceAfter%3DNo%0A%0A\" frameborder=\"0\" allowfullscreen></iframe>\n"
            ]
          }
        }
      ]
    }
  ]
}
